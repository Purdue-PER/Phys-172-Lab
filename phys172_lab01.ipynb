{
  "cells": [
    {
      "cell_type": "markdown",
      "metadata": {
        "id": "view-in-github",
        "colab_type": "text"
      },
      "source": [
        "<a href=\"https://colab.research.google.com/github/Purdue-PER/Phys-172-Lab/blob/main/phys172_lab01.ipynb\" target=\"_parent\"><img src=\"https://colab.research.google.com/assets/colab-badge.svg\" alt=\"Open In Colab\"/></a>"
      ]
    },
    {
      "cell_type": "markdown",
      "metadata": {
        "id": "FuKYDJV7CFz6"
      },
      "source": [
        "# LAB 01: Introduction to IPython Notebooks"
      ]
    },
    {
      "cell_type": "markdown",
      "metadata": {
        "id": "c4R9hFHaCUsG"
      },
      "source": [
        "Double-click or press `Enter` to provide the information below."
      ]
    },
    {
      "cell_type": "markdown",
      "source": [
        "First Name:"
      ],
      "metadata": {
        "id": "VIudAjZXCYmc"
      }
    },
    {
      "cell_type": "markdown",
      "source": [
        "Last Name:"
      ],
      "metadata": {
        "id": "LpBkd6GhCbg7"
      }
    },
    {
      "cell_type": "markdown",
      "metadata": {
        "id": "czrMbnY1CjDZ"
      },
      "source": [
        "Purdue Username (NOT your PUID):"
      ]
    },
    {
      "cell_type": "markdown",
      "metadata": {
        "id": "stWCDZ4PCfrW"
      },
      "source": [
        "Lab Section (Day) (Time) (Room):"
      ]
    },
    {
      "cell_type": "markdown",
      "metadata": {
        "id": "Il2RMRdbZD-2"
      },
      "source": [
        "# Introduction"
      ]
    },
    {
      "cell_type": "markdown",
      "metadata": {
        "id": "vMN2rYC-M_M3"
      },
      "source": [
        "Welcome to PHYS 172 Lab!\n",
        "This is your **lab notebook** where you will read, write, and calculate everything you need in order to complete the lab each week.\n",
        "We are using interactive Python or IPython (a.k.a. [Jupyter](https://jupyter-notebook.readthedocs.io/en/latest/notebook.html)).\n",
        "It is convenient for making digital notes with simple calculations.\n",
        "Hence, the file name extension `.ipynb` (short for Interactive Python Notebook).\n",
        "You will learn specific, foundational skills for using these notebooks effectively.\n",
        "General-purpose programming is not a prerequisite for this course."
      ]
    },
    {
      "cell_type": "markdown",
      "source": [
        "# Notebook Structure"
      ],
      "metadata": {
        "id": "VsiAmOygroxc"
      }
    },
    {
      "cell_type": "markdown",
      "source": [
        "The notebook consists of Text cells and Code cells.\n",
        "- In the **Text cells**, you will answer questions, explain your reasoning, and type equations.\n",
        "- In the **Code cells**, you will record the lab data, show your calculations, and plot graphs.\n",
        "\n",
        "*Edit a Text/Code cell only when you are explicitly asked to do so.*"
      ],
      "metadata": {
        "id": "DZfkB88Sxlwm"
      }
    },
    {
      "cell_type": "markdown",
      "metadata": {
        "id": "k7stIK6oqHfq"
      },
      "source": [
        "## Editing the Text Cells"
      ]
    },
    {
      "cell_type": "markdown",
      "metadata": {
        "id": "brh1xuZoqHfq"
      },
      "source": [
        "Read this section to get familiar with the Text cells in the notebook.\n",
        "- To **edit** any given Text cell, double-click on it with the mouse or press `Enter` on the keyboard.\n",
        "- To **exit** the editing mode, simply click outside the current cell or press `Shift + Enter`.\n",
        "\n",
        "To add a new cell, point the cursor to the end of the previous cell and select option `+ Text`.\n",
        "Alternatively, in the menu bar (`File`   `Edit`   `View` ...), click `Insert` where you can select `Text cell`.\n",
        "\n",
        "Practice with the following Text cell:\n",
        "- Delete its content and type \"Boiler up!\" instead.\n",
        "- Add another Text cell below it and type \"Hammer down\" there."
      ]
    },
    {
      "cell_type": "markdown",
      "metadata": {
        "id": "1h8t5bF8qHfq"
      },
      "source": [
        "*#EDIT THIS CELL AND ADD A NEW ONE*"
      ]
    },
    {
      "cell_type": "markdown",
      "metadata": {
        "id": "VjzXCk_aqHfq"
      },
      "source": [
        "Alongside plain English, you will need to type **equations** in a Text cell.\n",
        "To do that, we are using the [LaTeX](https://www.latex-project.org/) format:\n",
        "- First type your equation in plain text,\n",
        "- Then simply enclose it by the symbol `$` (the dollar sign).\n",
        "\n",
        "For example, the famous equation \"E = mc^2\" becomes $E = mc^2$ after such formatting.\n",
        "\n",
        "Practice with the following Text cell.\n",
        "Add the `$` symbol to both sides of the equations it contains and obtain the right formatting."
      ]
    },
    {
      "cell_type": "markdown",
      "metadata": {
        "id": "4JzftxFzfvIq"
      },
      "source": [
        "*#FORMAT THE EQUATONS IN THIS CELL*\n",
        "\n",
        "E = mc^2\n",
        "\n",
        "d = vt\n",
        "\n",
        "a = F/m"
      ]
    },
    {
      "cell_type": "markdown",
      "source": [
        "In the last equation above, \"a = F/m\" was converted into $a = F/m$. However, its proper form should be $a = \\frac{F}{m}$. To obtain this formatting, LaTeX uses special function `\\frac{}{}` for **fractions**.\n",
        "\n",
        "Practice with the following Text cell."
      ],
      "metadata": {
        "id": "2_wXwrGRNdOY"
      }
    },
    {
      "cell_type": "markdown",
      "metadata": {
        "id": "X2jj0173Gcxm"
      },
      "source": [
        "*#FORMAT THESE EXPRESSIONS*\n",
        "\n",
        "a = \\frac{F}{m}\n",
        "\n",
        "E = \\frac{mv^2}{2}\n",
        "\n",
        "\\frac{1}{2} = 0.5\n",
        "\n",
        "\\frac{3}{7} > \\frac{2}{5}\n",
        "\n",
        "\\frac{7}{3} < \\frac{5}{2}\n",
        "\n",
        "\\frac{x - y}{x + y}"
      ]
    },
    {
      "cell_type": "markdown",
      "source": [
        "There are **special symbols** (Greek letters) that we use in physics often.\n",
        "You can type them with LaTeX by their literal names.\n",
        "For example, \"alpha\" for $\\alpha$, \"beta\" for $\\beta$, etc.\n",
        "Adding the symbol `\\` (backslash) in front of these names will result in correct formatting.\n",
        "\n",
        "Practice with the following cell."
      ],
      "metadata": {
        "id": "tYWC-Md1S1G5"
      }
    },
    {
      "cell_type": "markdown",
      "source": [
        "*#FORMAT THESE EXPRESSIONS*\n",
        "\n",
        "\\alpha\n",
        "\n",
        "\\beta\n",
        "\n",
        "\\gamma\n",
        "\n",
        "\\pi = 3.14\n",
        "\n",
        "\\theta = \\frac{\\pi}{6}"
      ],
      "metadata": {
        "id": "hNuZfZ0jVxBR"
      }
    },
    {
      "cell_type": "markdown",
      "source": [
        "Note: Refer to this [list](https://oeis.org/wiki/List_of_LaTeX_mathematical_symbols) for other LaTeX symbols not presented here."
      ],
      "metadata": {
        "id": "QvSnwN4NqEOn"
      }
    },
    {
      "cell_type": "markdown",
      "source": [
        "There are also special operations that are often used in physics problems:\n",
        "- Finding the **root** of a number, e.g. $\\sqrt{121} = 11$.\n",
        "- **Trigonometric functions**, e.g. $\\sin{30} = 0.5$ or $\\tan{45} = 1$.\n",
        "\n",
        "These can be typed by adding `\\` to their codenames:\n",
        "- \"sqrt\" for the square root,\n",
        "- \"sin\" for the sine, \"cos\" for the cosine, etc.\n",
        "\n",
        "Practice with the followig cell."
      ],
      "metadata": {
        "id": "ALp70q1MdB2M"
      }
    },
    {
      "cell_type": "markdown",
      "source": [
        "*#FORMAT THESE EXPRESSIONS*\n",
        "\n",
        "\\sqrt{x}\n",
        "\n",
        "\\sin{x}\n",
        "\n",
        "\\cos{x}\n",
        "\n",
        "\\tan{x} = \\frac{\\sin{x}}{\\cos{x}}\n",
        "\n",
        "\\tan{\\theta}"
      ],
      "metadata": {
        "id": "YV21lOMwm9Au"
      }
    },
    {
      "cell_type": "markdown",
      "metadata": {
        "id": "x84RlcQQqHfr"
      },
      "source": [
        "## Running the Code Cells"
      ]
    },
    {
      "cell_type": "markdown",
      "source": [
        "Read this section to get familiar with the Code cells in the notebook.\n",
        "\n",
        "To run a Code cell, hit the play button (on the left of that cell) or press `Ctrl + Enter`.\n",
        "Unlike Text cells, there is no editing mode for Code cells.\n",
        "So, to edit a Code cell, simply type something in it and then run it to see the result.\n",
        "Adding a Code cell is the same as adding a Text cell."
      ],
      "metadata": {
        "id": "RxQ4Gs_-u5wm"
      }
    },
    {
      "cell_type": "markdown",
      "metadata": {
        "id": "Tu2Pfh02qHfs"
      },
      "source": [
        "Code cells contain commands that the computer must execute in order to achieve a specific task.\n",
        "Python provides an intuitive way of writing such commands.\n",
        "For example, one simple command is called **print statement**.\n",
        "It tells the computer to print a message specified by you.\n",
        "\n",
        "Practice with the following Code cell:\n",
        "- First, run it and print \"This is PHYS 172.\"\n",
        "- Then, edit it to print \"This is Purdue!\" instead."
      ]
    },
    {
      "cell_type": "code",
      "execution_count": null,
      "metadata": {
        "id": "xBkn64NRqHfs"
      },
      "outputs": [],
      "source": [
        "#RUN THIS CODE CELL AND THEN EDIT\n",
        "\n",
        "print(\"This is PHYS 172.\")"
      ]
    },
    {
      "cell_type": "markdown",
      "metadata": {
        "id": "OWbevhhGobeU"
      },
      "source": [
        "In physics, we deal with **variables** ($x$, $v$, $t$, etc.) and **values** (e.g. $1.2$ m, $0.5$ m/s, $7.3$ s).\n",
        "With Python, we can assign any numerical value to a variable of our choice.\n",
        "The following Code cell assigns the value `2` to the variable `a` when you run it."
      ]
    },
    {
      "cell_type": "code",
      "execution_count": null,
      "metadata": {
        "id": "YlkuVALBqHft"
      },
      "outputs": [],
      "source": [
        "#RUN THIS CODE CELL\n",
        "\n",
        "a = 2"
      ]
    },
    {
      "cell_type": "markdown",
      "metadata": {
        "id": "XV68o-ZUqHft"
      },
      "source": [
        "The benefit of using a variable is that we can change its value when needed.\n",
        "Until then, the computer stores the assigned value for each variable in its memory.\n",
        "Computers have very good memory.\n",
        "Variables keep their values across different Code cells.\n",
        "\n",
        "The following Code cell will print `2` because it stores this value for the variable `a` assigned in the previous Code cell."
      ]
    },
    {
      "cell_type": "code",
      "execution_count": null,
      "metadata": {
        "id": "mummYKuwqHft"
      },
      "outputs": [],
      "source": [
        "#RUN THIS CODE CELL\n",
        "\n",
        "print(a)"
      ]
    },
    {
      "cell_type": "markdown",
      "metadata": {
        "id": "ui-OutLqqHft"
      },
      "source": [
        "We can change the value of `a` by assigning it a different value. Run the following Code cell to see this for yourself."
      ]
    },
    {
      "cell_type": "code",
      "execution_count": null,
      "metadata": {
        "id": "RzT9q6Q7qHft"
      },
      "outputs": [],
      "source": [
        "#RUN THIS CODE CELL\n",
        "\n",
        "a = 3\n",
        "print(a)"
      ]
    },
    {
      "cell_type": "markdown",
      "source": [
        "Note that there are two distinct commands within the same Code cell above:\n",
        "- First, we assign `3` to `a`.\n",
        "- Then, we print the value of `a`.\n",
        "\n",
        "It is important that they are located at two distinct lines of code.\n",
        "Commands written on the same line get confused by the computer.\n",
        "For example, try running the following Code cell.\n",
        "It will result in an error.\n",
        "To fix this, add `;` (semicolon) in-between the two commands."
      ],
      "metadata": {
        "id": "p2A7rscb00XP"
      }
    },
    {
      "cell_type": "code",
      "source": [
        "#RUN THIS CODE CELL, FIX IT, AND RUN AGAIN\n",
        "\n",
        "a = 5 print(a)"
      ],
      "metadata": {
        "id": "JqbCJZcY1eys"
      },
      "execution_count": null,
      "outputs": []
    },
    {
      "cell_type": "markdown",
      "metadata": {
        "id": "iLxwmcz3qHfu"
      },
      "source": [
        "For our lab purposes, you will learn to use Code cells like a calculator.\n",
        "You will show your calculations in your weekly lab notebooks and your TA will be able to easily verify them by rerunning your code.\n",
        "\n",
        "Practice with the following Code cells.\n",
        "Run each Code cell and confirm what it prints out.\n",
        "\n",
        "Note: In Python, operators `+` `-` `*` `/` have their usual meanings: they are the 4 arithmetic operations."
      ]
    },
    {
      "cell_type": "code",
      "execution_count": null,
      "metadata": {
        "id": "8owYiWtNr9DF"
      },
      "outputs": [],
      "source": [
        "#RUN THIS CELL AND CHECK THE RESULT\n",
        "\n",
        "a = 2\n",
        "b = 3\n",
        "print(a * b)"
      ]
    },
    {
      "cell_type": "code",
      "execution_count": null,
      "metadata": {
        "id": "jzQNpMUKsFB6"
      },
      "outputs": [],
      "source": [
        "#RUN THIS CELL AND CHECK THE RESULT\n",
        "\n",
        "c = 5\n",
        "d = 4\n",
        "print(c / d)"
      ]
    },
    {
      "cell_type": "code",
      "execution_count": null,
      "metadata": {
        "id": "q3u_XCPMsQYB"
      },
      "outputs": [],
      "source": [
        "#RUN THIS CELL AND CHECK THE RESULT\n",
        "\n",
        "x = a * b / c + d\n",
        "print(x)"
      ]
    },
    {
      "cell_type": "code",
      "execution_count": null,
      "metadata": {
        "id": "vO7B5E22S_cm"
      },
      "outputs": [],
      "source": [
        "#RUN THIS CELL AND CHECK THE RESULT\n",
        "\n",
        "y = a * b / (c + d)\n",
        "print(y)"
      ]
    },
    {
      "cell_type": "markdown",
      "source": [
        "**QUESTION**\n",
        "\n",
        "Why the results of the last two Code cells differ?"
      ],
      "metadata": {
        "id": "PiKh316r51D_"
      }
    },
    {
      "cell_type": "markdown",
      "source": [
        "*#TYPE YOUR ANSWER HERE*\n",
        "\n",
        "\n"
      ],
      "metadata": {
        "id": "dgmkhfPe6A7f"
      }
    },
    {
      "cell_type": "markdown",
      "metadata": {
        "id": "pDJKmTK5qHfy"
      },
      "source": [
        "# Working with Data"
      ]
    },
    {
      "cell_type": "markdown",
      "metadata": {
        "id": "Xt5PKE8bqHfy"
      },
      "source": [
        "## Galileo's data"
      ]
    },
    {
      "cell_type": "markdown",
      "metadata": {
        "id": "4lyXtmydqHfy"
      },
      "source": [
        "We have the data found in Galileo Galilei's notes from 1608, preserved at the National Central Library in Florence, Italy ([source](https://www.scientificamerican.com/article/galileos-discovery-of-the-parabolic/)).\n",
        "With this historical example, we will demonstrate how our labs work and what you will need to do with regard to data analysis and visualization."
      ]
    },
    {
      "cell_type": "markdown",
      "metadata": {
        "id": "9LyGqqBnqHfy"
      },
      "source": [
        "Galileo recorded 7 individual **data points** (pairs of numbers) by rolling a heavy ball down an inclined plane and letting it fall freely onto the ground, as if he was dropping it from a cliff with some initial speed.\n",
        "Punti were his units of length: 1 punti = 0.000938 m\n",
        "\n",
        "| Measurement | $x$ (punti) | $y$ (punti) |\n",
        "|:-----------:|:-----------:|:-----------:|\n",
        "|      1      |     253     |     100     |\n",
        "|      2      |     337     |     200     |\n",
        "|      3      |     395     |     300     |\n",
        "|      4      |     451     |     450     |\n",
        "|      5      |     495     |     600     |\n",
        "|      6      |     534     |     800     |\n",
        "|      7      |     573     |    1,000    |\n",
        "\n",
        "- $x$ is **the horizontal distance** from the end of the inclined plane, from which the ball was falling, to the point of its contact with the ground.\n",
        "- $y$ is the height of the fall, i.e. **the vertical distance** between the end of the inclined plane and the ground."
      ]
    },
    {
      "cell_type": "markdown",
      "source": [
        "<img src=\"https://raw.githubusercontent.com/Purdue-PER/Phys-172-Lab/main/PHYS172_F23_Lab01-Fig01.png\" height=400 width=500>"
      ],
      "metadata": {
        "id": "lp50SGN5AH5O"
      }
    },
    {
      "cell_type": "markdown",
      "metadata": {
        "id": "RPBvxfzJqHfy"
      },
      "source": [
        "In a physics lab, **every data point matters**.\n",
        "Galileo obtained each of his seven numbers by tedious measurement.\n",
        "And so will you, in the due course of our labs.\n",
        "Sometimes, you will need to separate the signal from the noise.\n",
        "At other times, you may need to redo the measurement.\n",
        "As a rule of thumb, never rush to collect data while performing an experiment.\n",
        "Because usually it leads to unnecessary errors in the results.\n",
        "\n",
        "*Please carefully measure, choose, and record all data that you encounter during your lab sessions.*"
      ]
    },
    {
      "cell_type": "markdown",
      "metadata": {
        "id": "gdYO6iYLqHfy"
      },
      "source": [
        "We will **analyze** our data using Python.\n",
        "First, we need to store the data points in the computer memory.\n",
        "To do that, run the following Code cell."
      ]
    },
    {
      "cell_type": "code",
      "execution_count": null,
      "metadata": {
        "id": "3uJ-y7jSqHfy"
      },
      "outputs": [],
      "source": [
        "x = [253, 337, 395, 451, 495, 534, 573]\n",
        "y = [100, 200, 300, 450, 600, 800, 1000]"
      ]
    },
    {
      "cell_type": "markdown",
      "metadata": {
        "id": "3dQw7V5PqHfy"
      },
      "source": [
        "It creates variables `x` and `y` and assigns to them the values corresponding to the distances $x$ and $y$ defined earlier.\n",
        "Note that both of them don't simply take a single value, but contain the full sequence or **list** of all seven numbers each.\n",
        "In this way, we don't have to change the value of `x` and `y` 7 times."
      ]
    },
    {
      "cell_type": "markdown",
      "metadata": {
        "id": "X2Z67xkwqHfy"
      },
      "source": [
        "To verify that the computer has successfully stored all information we provided, run the following Code cell.\n",
        "Does it print all values of `x`?\n",
        "Add another Code cell to print the values of `y`."
      ]
    },
    {
      "cell_type": "code",
      "execution_count": null,
      "metadata": {
        "id": "RO78UOf7qHfz"
      },
      "outputs": [],
      "source": [
        "print(x)"
      ]
    },
    {
      "cell_type": "markdown",
      "metadata": {
        "id": "Xdo54DUfqHfz"
      },
      "source": [
        "Data analysis is done best when it is accompanied by data visualization.\n",
        "In these labs, we will mainly focus on **graph plots**.\n",
        "From mathematics, the graph of a function $y = f(x)$ is the collection of pairs $(x, y)$ plotted on the coordinate plane.\n",
        "Python on its own doesn't have the graphing ability: it can only store data, perform arithmetic operations, and print messages.\n",
        "We have exhausted its basic capability."
      ]
    },
    {
      "cell_type": "markdown",
      "metadata": {
        "id": "AgdSqUWwqHfz"
      },
      "source": [
        "To plot a graph in Python, we need a special \"library\" called `matplotlib`.\n",
        "The name stands for MATLAB-like Plotting Library.\n",
        "It is a large computational library.\n",
        "We need only its module `pyplot` for Python plotting.\n",
        "So, by running the following Code cell we access `matplotlib.pyplot` specifically."
      ]
    },
    {
      "cell_type": "code",
      "execution_count": null,
      "metadata": {
        "id": "kNa915N9qHfz"
      },
      "outputs": [],
      "source": [
        "import matplotlib.pyplot as plt"
      ]
    },
    {
      "cell_type": "markdown",
      "metadata": {
        "id": "mglXztGeqHfz"
      },
      "source": [
        "We \"import\" this module into our Notebook and give it the name `plt`.\n",
        "From now on, we can use its capabilities in addition to standard Python.\n",
        "For example, run the following Code cell and observe the result."
      ]
    },
    {
      "cell_type": "code",
      "execution_count": null,
      "metadata": {
        "scrolled": false,
        "id": "1aL1zmE7qHfz"
      },
      "outputs": [],
      "source": [
        "plt.plot(x, y)\n",
        "plt.show()"
      ]
    },
    {
      "cell_type": "markdown",
      "metadata": {
        "id": "_G0g5ZuzqHfz"
      },
      "source": [
        "- The first command `plt.plot(x, y)` creates a plot of the data stored in `x` and `y`.\n",
        "- The other command `plt.show()` shows it on the screen."
      ]
    },
    {
      "cell_type": "markdown",
      "metadata": {
        "id": "IJZDjk40qHfz"
      },
      "source": [
        "By definition, the plotting function in `plt` connects the data points by a solid line.\n",
        "To see individual data points as some little circles, we can produce a **scatter plot** instead.\n",
        "Run the following Code cell and observe the difference."
      ]
    },
    {
      "cell_type": "code",
      "execution_count": null,
      "metadata": {
        "id": "vRg01WOdqHfz"
      },
      "outputs": [],
      "source": [
        "plt.scatter(x, y)\n",
        "plt.show()"
      ]
    },
    {
      "cell_type": "markdown",
      "metadata": {
        "id": "MsNVl0dkqHf0"
      },
      "source": [
        "To add the **axis labels** as well as the graph title, we can add more commands as follows."
      ]
    },
    {
      "cell_type": "code",
      "execution_count": null,
      "metadata": {
        "id": "mPcELUj9qHf0"
      },
      "outputs": [],
      "source": [
        "plt.scatter(x, y)\n",
        "plt.xlabel(\"x (punti)\")\n",
        "plt.ylabel(\"y (punti)\")\n",
        "plt.title(\"Rolling Height vs Falling Length\")\n",
        "plt.show()"
      ]
    },
    {
      "cell_type": "markdown",
      "metadata": {
        "id": "MO86LoXIqHf0"
      },
      "source": [
        "As the final touch, we can add some **gridlines** on the coordinate plane for better presentation."
      ]
    },
    {
      "cell_type": "code",
      "execution_count": null,
      "metadata": {
        "id": "X9dJWHabqHf0"
      },
      "outputs": [],
      "source": [
        "plt.scatter(x, y)\n",
        "plt.xlabel(\"x (punti)\")\n",
        "plt.ylabel(\"y (punti)\")\n",
        "plt.title(\"Rolling Height vs Falling Length\")\n",
        "plt.grid()\n",
        "plt.show()"
      ]
    },
    {
      "cell_type": "markdown",
      "metadata": {
        "id": "c-iwhfC-qHf0"
      },
      "source": [
        "With this graph, we can start analyzing Galileo's data.\n",
        "We will analyze this problem later in the semester as it involves Energy and Angular Momentum."
      ]
    },
    {
      "cell_type": "markdown",
      "metadata": {
        "id": "eaWRNJNOqHf0"
      },
      "source": [
        "## Kepler's data"
      ]
    },
    {
      "cell_type": "markdown",
      "metadata": {
        "id": "58whiznjqHf0"
      },
      "source": [
        "Johannes Kepler, working with the data painstakingly collected by Tycho Brahe without the aid of a telescope, found the laws which described the motion of the planets across the sky ([source](http://hyperphysics.phy-astr.gsu.edu/hbase/kepler.html)).\n",
        "One of them describes the relationship between the period of rotation $T$ of a planet around the sun and its semimajor axis length $a$.\n",
        "The data that Kepler used is given in this table.\n",
        "\n",
        "|   Planet   | $a$ ($10^{10}$ meters) | $T$ (years) |\n",
        "|:----------:|:-------------:|:-----------:|\n",
        "|   Mercury  |       5.79        |     0.241     |\n",
        "|   Venus    |       10.8        |     0.615     |\n",
        "|   Mars     |       22.8        |     1.88     |\n",
        "|   Jupiter  |       77.8        |     11.9     |\n",
        "|   Saturn   |       143         |     29.5     |\n",
        "|   Uranus   |       287         |     84.0     |\n",
        "|   Neptune  |       450         |    165       |\n",
        "\n",
        "Plot the graph of $T$ vs $a$.\n",
        "Follow the procedure presented above.\n",
        "- Store the data points under proper Python variables (call them `a` and `T`).\n",
        "- Create a scatter plot of the data using `plt`.\n",
        "- Make sure to label the graph axes and show their gridlines.\n",
        "\n",
        "You may add as many Text cells and Code cells as you need."
      ]
    },
    {
      "cell_type": "markdown",
      "metadata": {
        "id": "py9EqkS4TjWm"
      },
      "source": [
        "# Conclusion"
      ]
    },
    {
      "cell_type": "markdown",
      "metadata": {
        "id": "I6D6mHr-qHf1"
      },
      "source": [
        "This is the end of Lab 01. Good job today!\n",
        "\n",
        "Follow the directions on Brightspace for submitting your lab notebook in both IPYNB and PDF format.\n",
        "\n",
        "Please check your files prior to submission to make sure that\n",
        "- There are NO hidden cells,\n",
        "- All Text cells are NOT in editing mode,\n",
        "- All Code cells have been RUN properly."
      ]
    }
  ],
  "metadata": {
    "colab": {
      "provenance": [],
      "include_colab_link": true
    },
    "kernelspec": {
      "display_name": "Python 3 (ipykernel)",
      "language": "python",
      "name": "python3"
    },
    "language_info": {
      "codemirror_mode": {
        "name": "ipython",
        "version": 3
      },
      "file_extension": ".py",
      "mimetype": "text/x-python",
      "name": "python",
      "nbconvert_exporter": "python",
      "pygments_lexer": "ipython3",
      "version": "3.9.16"
    }
  },
  "nbformat": 4,
  "nbformat_minor": 0
}